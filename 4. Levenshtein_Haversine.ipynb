{
 "cells": [
  {
   "cell_type": "markdown",
   "metadata": {},
   "source": [
    "## The Levenshtein Distance (edit distance)"
   ]
  },
  {
   "cell_type": "markdown",
   "metadata": {},
   "source": [
    "\\begin{equation*}\n",
    "    lev_{a,b}(i,j)=\n",
    "    \\begin{cases} max(i,j) & \\text{if $min(i,j)=0$} \\\\\n",
    "    min\n",
    "    \\begin{cases} \n",
    "        lev_{a_{\\prime}b}(i-1,j)+1 \\\\\n",
    "        lev_{a_{\\prime}b}(i,j-1)+1 \\\\\n",
    "        lev_{a_{\\prime}b}(i-1,j-1)+\\mathbf{1}_{(a_{i} \\neq b_{j})}\n",
    "    \\end{cases} & \\text{otherwise}\n",
    "    \\end{cases}\n",
    "    \\tag{1}\n",
    "\\end{equation*}"
   ]
  },
  {
   "cell_type": "code",
   "execution_count": null,
   "metadata": {},
   "outputs": [],
   "source": [
    "import pandas as pd\n",
    "import numpy as np\n",
    "import Levenshtein as lev"
   ]
  },
  {
   "cell_type": "code",
   "execution_count": null,
   "metadata": {},
   "outputs": [],
   "source": [
    "import os\n",
    "import sys\n",
    "sys.path.append(os.getcwd())"
   ]
  },
  {
   "cell_type": "code",
   "execution_count": null,
   "metadata": {},
   "outputs": [],
   "source": [
    "from sgPlaceAPI import lat_lon_pk, lookup_pk_sgname"
   ]
  },
  {
   "cell_type": "code",
   "execution_count": null,
   "metadata": {
    "scrolled": true
   },
   "outputs": [],
   "source": [
    "csv_path = \"./cultural_resource_dc_sg.csv\" \n",
    "df = pd.read_csv(csv_path)\n",
    "df.head()"
   ]
  },
  {
   "cell_type": "code",
   "execution_count": null,
   "metadata": {},
   "outputs": [],
   "source": [
    "s1 = df['sg_pk'].dropna().apply(lookup_pk_sgname).str.lower().rename('sg_name')"
   ]
  },
  {
   "cell_type": "code",
   "execution_count": null,
   "metadata": {},
   "outputs": [],
   "source": [
    "s2 = df.iloc[df['sg_pk'].dropna().index]['Item'].rename('cp_name')"
   ]
  },
  {
   "cell_type": "code",
   "execution_count": null,
   "metadata": {},
   "outputs": [],
   "source": [
    "df_new = s1.to_frame().join(s2)\n",
    "print('{} out of {} records were identified in SafeGraph.'.format(len(s1), len(df)))\n",
    "df_new.head()"
   ]
  },
  {
   "cell_type": "markdown",
   "metadata": {},
   "source": [
    "### A function remove unwanted characters (articles, comma, symbol) and leading and following whitespaces"
   ]
  },
  {
   "cell_type": "code",
   "execution_count": null,
   "metadata": {},
   "outputs": [],
   "source": [
    "def removearticles(text):\n",
    "    textwords = text.split('-')\n",
    "    textwords = ' '.join(textwords)\n",
    "    textwords = textwords.split()\n",
    "    stopwords = ['a', 'an', 'the', 'and', '&']\n",
    "    resultwords  = [word for word in textwords if word.lower() not in stopwords]\n",
    "    result = ' '.join(resultwords)\n",
    "    symbols = ['.', ',']\n",
    "    for symbol in symbols:\n",
    "        result = result.replace(symbol, '')\n",
    "    return result"
   ]
  },
  {
   "cell_type": "code",
   "execution_count": null,
   "metadata": {},
   "outputs": [],
   "source": [
    "df_new['sg_name'] = df_new['sg_name'].apply(removearticles)"
   ]
  },
  {
   "cell_type": "code",
   "execution_count": null,
   "metadata": {},
   "outputs": [],
   "source": [
    "df_new['cp_name'] = df_new['cp_name'].apply(removearticles)"
   ]
  },
  {
   "cell_type": "code",
   "execution_count": null,
   "metadata": {},
   "outputs": [],
   "source": [
    "df_new[:30]"
   ]
  },
  {
   "cell_type": "code",
   "execution_count": null,
   "metadata": {},
   "outputs": [],
   "source": [
    "df_new['similarity'] = df_new.apply(lambda x: lev.ratio(x[0], x[1]), axis=1)"
   ]
  },
  {
   "cell_type": "code",
   "execution_count": null,
   "metadata": {},
   "outputs": [],
   "source": [
    "df_new[:30]"
   ]
  },
  {
   "cell_type": "markdown",
   "metadata": {},
   "source": [
    "## Haversine distance"
   ]
  },
  {
   "cell_type": "markdown",
   "metadata": {},
   "source": [
    "$$d=2r\\arcsin\\left(\\sqrt{\\sin^2\\left(\\frac{\\phi_2-\\phi_1}{2}\\right)+\\cos(\\phi_1)\\cos(\\phi_2)\\sin^2\\left(\\frac{\\lambda_2-\\lambda_1}{2}\\right)}\\right)$$"
   ]
  },
  {
   "cell_type": "code",
   "execution_count": null,
   "metadata": {},
   "outputs": [],
   "source": [
    "# retrieved from https://stackoverflow.com/a/29546836/4492663\n",
    "\n",
    "def haversine_np(lon1, lat1, lon2, lat2):\n",
    "    \"\"\"\n",
    "    Calculate the great circle distance between two points\n",
    "    on the earth (specified in decimal degrees)\n",
    "\n",
    "    All args must be of equal length.    \n",
    "\n",
    "    \"\"\"\n",
    "    lon1, lat1, lon2, lat2 = map(np.radians, [lon1, lat1, lon2, lat2])\n",
    "\n",
    "    dlon = lon2 - lon1\n",
    "    dlat = lat2 - lat1\n",
    "\n",
    "    a = np.sin(dlat/2.0)**2 + np.cos(lat1) * np.cos(lat2) * np.sin(dlon/2.0)**2\n",
    "\n",
    "    c = 2 * np.arcsin(np.sqrt(a))\n",
    "    km = 6367 * c\n",
    "    return km"
   ]
  },
  {
   "cell_type": "code",
   "execution_count": null,
   "metadata": {},
   "outputs": [],
   "source": [
    "haversine_np(38.883627, -76.983400, 38.889484, -77.035279)  # washington monument"
   ]
  },
  {
   "cell_type": "code",
   "execution_count": null,
   "metadata": {},
   "outputs": [],
   "source": [
    "df_new['distance'] = haversine_np(df.iloc[df['sg_pk'].dropna().index]['lat'],\n",
    "                                  df.iloc[df['sg_pk'].dropna().index]['lon'],\n",
    "                                  df.iloc[df['sg_pk'].dropna().index]['sg_lat'],\n",
    "                                  df.iloc[df['sg_pk'].dropna().index]['sg_lon'])"
   ]
  },
  {
   "cell_type": "code",
   "execution_count": null,
   "metadata": {},
   "outputs": [],
   "source": [
    "df_new[:30]"
   ]
  },
  {
   "cell_type": "code",
   "execution_count": null,
   "metadata": {},
   "outputs": [],
   "source": [
    "df_new = df_new.join(df[['lat', 'lon']]).groupby(['lat', 'lon']).agg({'similarity': 'max',\n",
    "                                                                      'distance': 'min',\n",
    "                                                                      'cp_name': lambda x: ','.join(set(x)),\n",
    "                                                                      'sg_name': lambda x: ','.join(set(x))}).reset_index()"
   ]
  },
  {
   "cell_type": "code",
   "execution_count": null,
   "metadata": {},
   "outputs": [],
   "source": [
    "csv_path = \"./cultural_resource_dc_sg_match.csv\" \n",
    "df_new.to_csv(csv_path, index=False)"
   ]
  }
 ],
 "metadata": {
  "kernelspec": {
   "display_name": "Python 3",
   "language": "python",
   "name": "python3"
  },
  "language_info": {
   "codemirror_mode": {
    "name": "ipython",
    "version": 3
   },
   "file_extension": ".py",
   "mimetype": "text/x-python",
   "name": "python",
   "nbconvert_exporter": "python",
   "pygments_lexer": "ipython3",
   "version": "3.7.11"
  }
 },
 "nbformat": 4,
 "nbformat_minor": 2
}
