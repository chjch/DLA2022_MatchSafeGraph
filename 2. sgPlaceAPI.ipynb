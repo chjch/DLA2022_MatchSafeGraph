{
 "cells": [
  {
   "cell_type": "code",
   "execution_count": null,
   "metadata": {},
   "outputs": [],
   "source": [
    "import numpy as np\n",
    "import pandas as pd\n",
    "import requests\n",
    "import json"
   ]
  },
  {
   "cell_type": "markdown",
   "metadata": {},
   "source": [
    "_API key below_"
   ]
  },
  {
   "cell_type": "code",
   "execution_count": null,
   "metadata": {
    "hide_input": true
   },
   "outputs": [],
   "source": [
    "sg_api = '<your SafeGraph Place API>'"
   ]
  },
  {
   "cell_type": "markdown",
   "metadata": {},
   "source": [
    "# a function converts table to DataFrame"
   ]
  },
  {
   "cell_type": "code",
   "execution_count": null,
   "metadata": {},
   "outputs": [],
   "source": [
    "import arcpy\n",
    "def table_to_df(layer):\n",
    "    fields = []\n",
    "    for field in arcpy.ListFields(layer):\n",
    "        fields.append(field.name)\n",
    "    arr = arcpy.da.TableToNumPyArray(layer, fields[2:])\n",
    "    return pd.DataFrame(arr, columns=arr.dtype.names)"
   ]
  },
  {
   "cell_type": "code",
   "execution_count": null,
   "metadata": {},
   "outputs": [],
   "source": [
    "df = table_to_df('cp_dc_noduplicate_latlon')\n",
    "df.head()"
   ]
  },
  {
   "cell_type": "markdown",
   "metadata": {},
   "source": [
    "## Read cultural places (identifiable only) in DC"
   ]
  },
  {
   "cell_type": "code",
   "execution_count": null,
   "metadata": {},
   "outputs": [],
   "source": [
    "csv_path = r\"./cultural_resrouce_dc.csv\"\n",
    "df = pd.read_csv(csv_path)\n",
    "df.head()"
   ]
  },
  {
   "cell_type": "markdown",
   "metadata": {},
   "source": [
    "## Lookup by name and postal code"
   ]
  },
  {
   "cell_type": "code",
   "execution_count": null,
   "metadata": {
    "hide_input": false
   },
   "outputs": [],
   "source": [
    "def address_to_pk(loc_name, address, zipcode):\n",
    "    headers = {\n",
    "        'apikey': cc_sg_api,\n",
    "        'content-type': 'application/json',\n",
    "    }\n",
    "\n",
    "    location_name = loc_name\n",
    "    street_address = address  # street_address = '15th St NW, Washington'\n",
    "    postal_code = zipcode  # postal_code = '20050'\n",
    "    iso_country_code = 'US'\n",
    "\n",
    "    cols = [\n",
    "        'location_name',\n",
    "        'street_address',\n",
    "        'city',\n",
    "        'region',\n",
    "        'iso_country_code',\n",
    "        'postal_code'\n",
    "    ]\n",
    "    cols = ' '.join(cols)\n",
    "\n",
    "    lookup = '''\n",
    "        lookup(query: {\n",
    "        location_name: \\\\\"%s\\\\\",\n",
    "        street_address: \\\\\"%s\\\\\",\n",
    "        postal_code: \\\\\"%s\\\\\",\n",
    "        iso_country_code: \\\\\"%s\\\\\"})\n",
    "    '''\n",
    "    lookup = lookup % (location_name, street_address, postal_code, iso_country_code)\n",
    "    lookup = lookup.strip().replace('\\n', '')\n",
    "\n",
    "    data = '{\"query\": \"query {%s {placekey safegraph_core {%s}}}\", \"variables\":{}}'\n",
    "    response = requests.post('https://api.safegraph.com/v1/graphql',\n",
    "                             headers=headers,\n",
    "                             data=data % (lookup, cols))\n",
    "    \n",
    "    sg_records_num = json.loads(\"\".join(response.text))['extensions']['row_count']\n",
    "    if sg_records_num > 0:\n",
    "        print(f'{sg_records_num} sg place found.')\n",
    "        return json.loads(\"\".join(response.text))['data']['lookup']['placekey']\n",
    "    else:\n",
    "        print('No record found.')"
   ]
  },
  {
   "cell_type": "code",
   "execution_count": null,
   "metadata": {},
   "outputs": [],
   "source": [
    "x = address_to_pk('Washington Monument', '2483 Tilden St NW', '20008') # google reverse geocoding address no matching"
   ]
  },
  {
   "cell_type": "markdown",
   "metadata": {},
   "source": [
    "## Lookup by name and lat & lon"
   ]
  },
  {
   "cell_type": "code",
   "execution_count": null,
   "metadata": {},
   "outputs": [],
   "source": [
    "def lat_lon_pk(loc_name, lat, lon):\n",
    "    headers = {\n",
    "        'apikey': cc_sg_api,\n",
    "        'content-type': 'application/json',\n",
    "    }\n",
    "\n",
    "    location_name = loc_name\n",
    "    latitude = str(lat)\n",
    "    longitude = str(lon)\n",
    "    iso_country_code = 'US'\n",
    "\n",
    "    cols = [\n",
    "        'location_name',\n",
    "        'street_address',\n",
    "        'latitude',\n",
    "        'longitude',\n",
    "        'postal_code'\n",
    "    ]\n",
    "    cols = ' '.join(cols)\n",
    "\n",
    "    lookup = '''\n",
    "        lookup(query: {\n",
    "        location_name: \\\\\"%s\\\\\",\n",
    "        latitude: %s,\n",
    "        longitude: %s,\n",
    "        iso_country_code: \\\\\"%s\\\\\"})\n",
    "    '''\n",
    "    lookup = lookup % (location_name, latitude, longitude, iso_country_code)\n",
    "    lookup = lookup.strip().replace('\\n', '')\n",
    "\n",
    "    data = '{\"query\": \"query {%s {placekey safegraph_core {%s}}}\", \"variables\":{}}'\n",
    "    response = requests.post('https://api.safegraph.com/v1/graphql',\n",
    "                             headers=headers,\n",
    "                             data=data % (lookup, cols))\n",
    "    sg_records_num = json.loads(\"\".join(response.text))['extensions']['row_count']\n",
    "    if sg_records_num > 0:\n",
    "        print(f'{sg_records_num} sg place found.')\n",
    "        return (json.loads(\"\".join(response.text))['data']['lookup']['placekey'],\n",
    "                json.loads(\"\".join(response.text))['data']['lookup']['safegraph_core']['latitude'],\n",
    "                json.loads(\"\".join(response.text))['data']['lookup']['safegraph_core']['longitude'])\n",
    "    else:\n",
    "        print('No record found.')\n",
    "        return np.nan, np.nan, np.nan"
   ]
  },
  {
   "cell_type": "code",
   "execution_count": null,
   "metadata": {},
   "outputs": [],
   "source": [
    "lat_lon_pk('Washington Monument', 38.889484, -77.035279)   # able to retrieve using lat lon whereas google API address couldn't"
   ]
  },
  {
   "cell_type": "markdown",
   "metadata": {},
   "source": [
    "## Lookup by placekey"
   ]
  },
  {
   "cell_type": "code",
   "execution_count": null,
   "metadata": {},
   "outputs": [],
   "source": [
    "headers = {\n",
    "    'apikey': cc_sg_api,\n",
    "    'content-type': 'application/json',\n",
    "}\n",
    "\n",
    "placekey = 'zzw-222@63r-6mx-wkz'\n",
    "lookup = 'lookup(placekey: \\\\\"{}\\\\\")'.format(placekey)\n",
    "cols = [\n",
    "    'placekey',\n",
    "    'latitude',\n",
    "    'longitude',\n",
    "    'street_address',\n",
    "    'location_name'\n",
    "]\n",
    "cols = ' '.join(cols)\n",
    "data = '{\"query\": \"query {%s {safegraph_core {%s}}}\", \"variables\":{}}'\n",
    "response = requests.post('https://api.safegraph.com/v1/graphql',\n",
    "                         headers=headers,\n",
    "                         data=data % (lookup, cols))"
   ]
  },
  {
   "cell_type": "code",
   "execution_count": null,
   "metadata": {},
   "outputs": [],
   "source": [
    "json.loads(\"\".join(response.text))['data']['lookup']['safegraph_core']['location_name']"
   ]
  },
  {
   "cell_type": "code",
   "execution_count": null,
   "metadata": {},
   "outputs": [],
   "source": [
    "lat_lon_pk('RunningAsana', 38.94076566100159, -77.05212427944639)"
   ]
  },
  {
   "cell_type": "markdown",
   "metadata": {},
   "source": [
    "## Verify how well matches SafeGraph with lat lon"
   ]
  },
  {
   "cell_type": "code",
   "execution_count": null,
   "metadata": {
    "scrolled": true
   },
   "outputs": [],
   "source": [
    "df['sg_pk'], df['sg_lat'], df['sg_lon'] = zip(*df.apply(lambda x: lat_lon_pk(x['Item'], x['lat'], x['lon']), axis=1))"
   ]
  },
  {
   "cell_type": "code",
   "execution_count": null,
   "metadata": {},
   "outputs": [],
   "source": [
    "print(f\"{df['sg_pk'].count()} out of {len(df)} records found matching records in SafeGraph\")"
   ]
  },
  {
   "cell_type": "code",
   "execution_count": null,
   "metadata": {},
   "outputs": [],
   "source": [
    "df.head()"
   ]
  },
  {
   "cell_type": "code",
   "execution_count": null,
   "metadata": {},
   "outputs": [],
   "source": [
    "csv_path = \"./cultural_rescoure_dc_sg.csv\" \n",
    "df.to_csv(csv_path, index=False)"
   ]
  }
 ],
 "metadata": {
  "hide_input": false,
  "kernelspec": {
   "display_name": "Python 3",
   "language": "python",
   "name": "python3"
  },
  "language_info": {
   "codemirror_mode": {
    "name": "ipython",
    "version": 3
   },
   "file_extension": ".py",
   "mimetype": "text/x-python",
   "name": "python",
   "nbconvert_exporter": "python",
   "pygments_lexer": "ipython3",
   "version": "3.7.11"
  },
  "varInspector": {
   "cols": {
    "lenName": 16,
    "lenType": 16,
    "lenVar": 40
   },
   "kernels_config": {
    "python": {
     "delete_cmd_postfix": "",
     "delete_cmd_prefix": "del ",
     "library": "var_list.py",
     "varRefreshCmd": "print(var_dic_list())"
    },
    "r": {
     "delete_cmd_postfix": ") ",
     "delete_cmd_prefix": "rm(",
     "library": "var_list.r",
     "varRefreshCmd": "cat(var_dic_list()) "
    }
   },
   "types_to_exclude": [
    "module",
    "function",
    "builtin_function_or_method",
    "instance",
    "_Feature"
   ],
   "window_display": false
  }
 },
 "nbformat": 4,
 "nbformat_minor": 2
}
